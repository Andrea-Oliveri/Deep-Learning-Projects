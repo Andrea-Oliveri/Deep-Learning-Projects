{
 "cells": [
  {
   "cell_type": "code",
   "execution_count": 1,
   "metadata": {},
   "outputs": [],
   "source": [
    "import torch\r\n",
    "from torch import nn\r\n",
    "from torch.nn import functional as F\r\n",
    "from torch import optim\r\n",
    "\r\n",
    "import dlc_practical_prologue as prologue\r\n"
   ]
  },
  {
   "cell_type": "code",
   "execution_count": 2,
   "metadata": {},
   "outputs": [],
   "source": [
    "pairs = prologue.generate_pair_sets(1000)\r\n",
    "\r\n",
    "train_input=pairs[0].cuda()\r\n",
    "train_target=pairs[1].cuda()\r\n",
    "train_classes=pairs[2].cuda()\r\n",
    "test_input=pairs[3].cuda()\r\n",
    "test_target=pairs[4].cuda()\r\n",
    "test_classes=pairs[5].cuda()\r\n",
    "\r\n",
    "# train_target=prologue.convert_to_one_hot_labels(train_input,train_target)"
   ]
  },
  {
   "cell_type": "code",
   "execution_count": 3,
   "metadata": {},
   "outputs": [],
   "source": [
    "class ConvNet(nn.Module):\r\n",
    "    '''\r\n",
    "    Input size :            2x14x14\r\n",
    "    nn.Conv2d(2, 32, k=3) : 32x12x12\r\n",
    "    F.max_pool2d(k=2) :     32x6x6\r\n",
    "    nn.Conv2d(32, 64, k=3): 64x4x4\r\n",
    "    F.max_pool2d(k=2):      64x2x2\r\n",
    "    '''\r\n",
    "    def __init__(self, nb_hidden):\r\n",
    "        super().__init__()\r\n",
    "        self.conv1 = nn.Conv2d(2, 32, kernel_size=3)\r\n",
    "        self.conv2 = nn.Conv2d(32, 64, kernel_size=3)\r\n",
    "        self.fc1 = nn.Linear(256, nb_hidden)\r\n",
    "        self.fc2 = nn.Linear(nb_hidden, 2)\r\n",
    "\r\n",
    "    def forward(self, x):\r\n",
    "        x = F.relu(F.max_pool2d(self.conv1(x), kernel_size=2, stride=2))\r\n",
    "        x = F.relu(F.max_pool2d(self.conv2(x), kernel_size=2, stride=2))\r\n",
    "        x = F.relu(self.fc1(x.view(-1, 256)))\r\n",
    "        x = self.fc2(x)\r\n",
    "        return x"
   ]
  },
  {
   "cell_type": "code",
   "execution_count": 4,
   "metadata": {},
   "outputs": [],
   "source": [
    "def train_model(model, train_input, train_target):\r\n",
    "    criterion = nn.CrossEntropyLoss()\r\n",
    "    optimizer = optim.SGD(model.parameters(), lr = 1e-3)\r\n",
    "    nb_epochs = 50\r\n",
    "    mini_batch_size= 100\r\n",
    "\r\n",
    "    for e in range(nb_epochs):\r\n",
    "        for b in range(0, train_input.size(0), mini_batch_size):\r\n",
    "            output = model(train_input.narrow(0, b, mini_batch_size))\r\n",
    "            loss = criterion(output, train_target.narrow(0, b, mini_batch_size))\r\n",
    "            optimizer.zero_grad()\r\n",
    "            loss.backward()\r\n",
    "            optimizer.step()\r\n"
   ]
  },
  {
   "cell_type": "code",
   "execution_count": 5,
   "metadata": {},
   "outputs": [],
   "source": [
    "def compute_nb_errors(model, data_input, data_target):\r\n",
    "\r\n",
    "    nb_data_errors = 0\r\n",
    "    mini_batch_size= 100\r\n",
    "    for b in range(0, data_input.size(0), mini_batch_size):\r\n",
    "        output = model(data_input.narrow(0, b, mini_batch_size))\r\n",
    "        _, predicted_classes = torch.max(output, 1)\r\n",
    "        for k in range(mini_batch_size):\r\n",
    "            if data_target[b + k] != predicted_classes[k]:\r\n",
    "                nb_data_errors = nb_data_errors + 1\r\n",
    "\r\n",
    "    return nb_data_errors"
   ]
  },
  {
   "cell_type": "code",
   "execution_count": 6,
   "metadata": {},
   "outputs": [
    {
     "name": "stdout",
     "output_type": "stream",
     "text": [
      "train_error 21.80% test_error 1.50%\n",
      "train_error 22.90% test_error 1.70%\n",
      "train_error 21.20% test_error 7.10%\n",
      "train_error 20.30% test_error 1.90%\n",
      "train_error 23.30% test_error 2.00%\n"
     ]
    }
   ],
   "source": [
    "train_E=[]\r\n",
    "test_E=[]\r\n",
    "\r\n",
    "for k in range(5):\r\n",
    "    model=ConvNet(200).cuda()\r\n",
    "    train_model(model,train_input,train_target)\r\n",
    "    train_E.append(compute_nb_errors(model, train_input, train_target) / train_input.size(0) * 100)\r\n",
    "    test_E.append(compute_nb_errors(model, test_input, test_target) / test_input.size(0) * 100)\r\n",
    "    print('train_error {:.02f}% test_error {:.02f}%'.format(train_E[-1],test_E[-1]))"
   ]
  },
  {
   "cell_type": "code",
   "execution_count": 7,
   "metadata": {},
   "outputs": [
    {
     "data": {
      "text/plain": "[21.8, 22.900000000000002, 21.2, 20.3, 23.3]"
     },
     "execution_count": 7,
     "metadata": {},
     "output_type": "execute_result"
    }
   ],
   "source": [
    "test_E"
   ]
  }
 ],
 "metadata": {
  "kernelspec": {
   "display_name": "Python 3.8.5 64-bit ('base': conda)",
   "name": "python385jvsc74a57bd097ae724bfa85b9b34df7982b8bb8c7216f435b92902d749e4263f71162bea840"
  },
  "language_info": {
   "codemirror_mode": {
    "name": "ipython",
    "version": 3
   },
   "file_extension": ".py",
   "mimetype": "text/x-python",
   "name": "python",
   "nbconvert_exporter": "python",
   "pygments_lexer": "ipython3",
   "version": "3.8.5"
  },
  "orig_nbformat": 2
 },
 "nbformat": 4,
 "nbformat_minor": 2
}