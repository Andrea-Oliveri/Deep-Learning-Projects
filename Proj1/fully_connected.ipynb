{
 "cells": [
  {
   "cell_type": "code",
   "execution_count": 2,
   "metadata": {},
   "outputs": [],
   "source": [
    "import torch\r\n",
    "from torch import nn\r\n",
    "from torch.nn import functional as F\r\n",
    "from torch import optim\r\n",
    "\r\n",
    "import dlc_practical_prologue as prologue\r\n",
    "\r\n",
    "if torch.cuda.is_available():  \r\n",
    "  dev=\"cuda:0\"\r\n",
    "  device = torch.device(dev) "
   ]
  },
  {
   "cell_type": "code",
   "execution_count": 3,
   "metadata": {},
   "outputs": [],
   "source": [
    "pairs = prologue.generate_pair_sets(1000)\r\n",
    "\r\n",
    "train_input=pairs[0].to(dev)\r\n",
    "train_target=pairs[1].to(dev)\r\n",
    "train_classes=pairs[2].to(dev)\r\n",
    "test_input=pairs[3].to(dev)\r\n",
    "test_target=pairs[4].to(dev)\r\n",
    "test_classes=pairs[5].to(dev)\r\n",
    "\r\n",
    "train_input=train_input.view((1000,-1)) #Vector convertion, images are concatenated\r\n",
    "test_input=test_input.view((1000,-1))"
   ]
  },
  {
   "cell_type": "code",
   "execution_count": 27,
   "metadata": {},
   "outputs": [
    {
     "data": {
      "text/plain": "tensor([[ 1,  2,  3,  4,  5,  6,  7,  8,  9, 10, 11, 12, 13, 14, 15, 16, 17, 18],\n        [ 1,  2,  3,  4,  5,  6,  7,  8,  9, 10, 11, 12, 13, 14, 15, 16, 17, 18]])"
     },
     "execution_count": 27,
     "metadata": {},
     "output_type": "execute_result"
    }
   ],
   "source": [
    "# t=torch.tensor([[[[1,2,3],[4,5,6],[7,8,9]],[[10,11,12],[13,14,15],[16,17,18]]],[[[1,2,3],[4,5,6],[7,8,9]],[[10,11,12],[13,14,15],[16,17,18]]]])\r\n",
    "# t.view(2,-1)"
   ]
  },
  {
   "cell_type": "code",
   "execution_count": 5,
   "metadata": {},
   "outputs": [],
   "source": [
    "\r\n",
    "class Net(nn.Module):\r\n",
    "    def __init__(self):\r\n",
    "        super().__init__()\r\n",
    "        self.fc1 = nn.Linear(392, 500)\r\n",
    "        self.fc2 = nn.Linear(500, 20)\r\n",
    "        self.fc3 = nn.Linear(20, 2)\r\n",
    "\r\n",
    "    def forward(self, x):\r\n",
    "        x = F.relu(self.fc1(x))\r\n",
    "        x = F.relu(self.fc2(x))\r\n",
    "        x = self.fc3(x)\r\n",
    "        return x"
   ]
  },
  {
   "cell_type": "code",
   "execution_count": 6,
   "metadata": {},
   "outputs": [],
   "source": [
    "def train_model(model, train_input, train_target):\r\n",
    "    criterion = nn.CrossEntropyLoss()\r\n",
    "    optimizer = optim.SGD(model.parameters(), lr = 1e-3)\r\n",
    "    nb_epochs = 100\r\n",
    "    mini_batch_size= 100\r\n",
    "\r\n",
    "    for e in range(nb_epochs):\r\n",
    "        for b in range(0, train_input.size(0), mini_batch_size):\r\n",
    "            output = model(train_input.narrow(0, b, mini_batch_size))\r\n",
    "            loss = criterion(output, train_target.narrow(0, b, mini_batch_size))\r\n",
    "            optimizer.zero_grad()\r\n",
    "            loss.backward()\r\n",
    "            optimizer.step()"
   ]
  },
  {
   "cell_type": "code",
   "execution_count": 7,
   "metadata": {},
   "outputs": [],
   "source": [
    "def compute_nb_errors(model, data_input, data_target):\r\n",
    "\r\n",
    "    nb_data_errors = 0\r\n",
    "    mini_batch_size= 100\r\n",
    "    for b in range(0, data_input.size(0), mini_batch_size):\r\n",
    "        output = model(data_input.narrow(0, b, mini_batch_size))\r\n",
    "        _, predicted_classes = torch.max(output, 1)\r\n",
    "        for k in range(mini_batch_size):\r\n",
    "            if data_target[b + k] != predicted_classes[k]:\r\n",
    "                nb_data_errors = nb_data_errors + 1\r\n",
    "\r\n",
    "    return nb_data_errors"
   ]
  },
  {
   "cell_type": "code",
   "execution_count": 9,
   "metadata": {},
   "outputs": [
    {
     "name": "stdout",
     "output_type": "stream",
     "text": [
      "train_error 0.30% test_error 22.80%\n",
      "train_error 0.20% test_error 21.30%\n",
      "train_error 0.00% test_error 21.60%\n",
      "train_error 0.40% test_error 24.00%\n",
      "train_error 0.90% test_error 24.70%\n"
     ]
    }
   ],
   "source": [
    "train_E=[]\r\n",
    "test_E=[]\r\n",
    "\r\n",
    "for k in range(5):\r\n",
    "    model=Net().cuda()\r\n",
    "    train_model(model,train_input,train_target)\r\n",
    "    train_E.append(compute_nb_errors(model, train_input, train_target) / train_input.size(0) * 100)\r\n",
    "    test_E.append(compute_nb_errors(model, test_input, test_target) / test_input.size(0) * 100)\r\n",
    "    print('train_error {:.02f}% test_error {:.02f}%'.format(train_E[-1],test_E[-1]))"
   ]
  },
  {
   "cell_type": "code",
   "execution_count": null,
   "metadata": {},
   "outputs": [],
   "source": []
  }
 ],
 "metadata": {
  "kernelspec": {
   "display_name": "Python 3.8.5 64-bit ('base': conda)",
   "name": "python385jvsc74a57bd097ae724bfa85b9b34df7982b8bb8c7216f435b92902d749e4263f71162bea840"
  },
  "language_info": {
   "codemirror_mode": {
    "name": "ipython",
    "version": 3
   },
   "file_extension": ".py",
   "mimetype": "text/x-python",
   "name": "python",
   "nbconvert_exporter": "python",
   "pygments_lexer": "ipython3",
   "version": "3.8.5"
  },
  "orig_nbformat": 2
 },
 "nbformat": 4,
 "nbformat_minor": 2
}